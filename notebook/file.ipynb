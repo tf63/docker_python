{
 "cells": [
  {
   "cell_type": "code",
   "execution_count": 17,
   "metadata": {},
   "outputs": [
    {
     "name": "stdout",
     "output_type": "stream",
     "text": [
      "../app/__init__.py\n",
      "../app/check.py\n",
      "../app/io.py\n",
      "../app/network_exam.py\n",
      "../tests/sample.py\n"
     ]
    }
   ],
   "source": [
    "import glob\n",
    "\n",
    "for file_path in glob.glob('../*/*.py'):\n",
    "    print(file_path)\n"
   ]
  }
 ],
 "metadata": {
  "kernelspec": {
   "display_name": ".venv",
   "language": "python",
   "name": "python3"
  },
  "language_info": {
   "codemirror_mode": {
    "name": "ipython",
    "version": 3
   },
   "file_extension": ".py",
   "mimetype": "text/x-python",
   "name": "python",
   "nbconvert_exporter": "python",
   "pygments_lexer": "ipython3",
   "version": "3.9.18"
  }
 },
 "nbformat": 4,
 "nbformat_minor": 2
}
