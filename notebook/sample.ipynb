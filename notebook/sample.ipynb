{
 "cells": [
  {
   "cell_type": "code",
   "execution_count": 2,
   "metadata": {},
   "outputs": [
    {
     "name": "stdout",
     "output_type": "stream",
     "text": [
      "1.26.3\n"
     ]
    }
   ],
   "source": [
    "import numpy as np\n",
    "\n",
    "print(np.__version__)"
   ]
  },
  {
   "cell_type": "code",
   "execution_count": 24,
   "metadata": {},
   "outputs": [
    {
     "name": "stdout",
     "output_type": "stream",
     "text": [
      "|00000255.0|\n",
      "1200.0\n",
      "0.0012\n"
     ]
    }
   ],
   "source": [
    "print(\"|%010.01f|\" % 255)\n",
    "print(1.2e3)\n",
    "print(1.2e-3)"
   ]
  },
  {
   "cell_type": "code",
   "execution_count": 37,
   "metadata": {},
   "outputs": [
    {
     "name": "stdout",
     "output_type": "stream",
     "text": [
      "[2 3 4 5 6]\n",
      "[ 0  1  4  9 16 25 36 49 64 81]\n",
      "[9 7 5 3]\n",
      "[]\n",
      "[9 8 7 6 5 4 3 2]\n"
     ]
    }
   ],
   "source": [
    "a = np.array(range(10))\n",
    "print(a[2:7])\n",
    "print(a*a)\n",
    "print(a[9:1:-2])\n",
    "print(a[9:1])\n",
    "\n",
    "b = range(10)\n",
    "print(a[9:1:-1])"
   ]
  },
  {
   "cell_type": "code",
   "execution_count": 47,
   "metadata": {},
   "outputs": [
    {
     "name": "stdout",
     "output_type": "stream",
     "text": [
      "{'a': 10, 'b': 20, 'c': 30}\n",
      "dict_keys(['a', 'b', 'c'])\n",
      "dict_values([10, 20, 30])\n",
      "a\n",
      "b\n",
      "c\n",
      "{'0th': 0, '1th': 1, '2th': 2, '3th': 3, '4th': 4, '5th': 5, '6th': 6, '7th': 7, '8th': 8, '9th': 9}\n",
      "0th\n",
      "1th\n",
      "2th\n",
      "3th\n",
      "4th\n",
      "5th\n",
      "6th\n",
      "7th\n",
      "8th\n",
      "9th\n"
     ]
    }
   ],
   "source": [
    "a = {'a': 10, 'b': 20, 'c': 30}\n",
    "\n",
    "print(a)\n",
    "print(a.keys())\n",
    "print(a.values())\n",
    "\n",
    "for key in a.keys():\n",
    "    print(key)\n",
    "\n",
    "b = {f'{i}th': i for i in range(10)}\n",
    "\n",
    "print(b)\n",
    "\n",
    "for a in b:\n",
    "    print(a)"
   ]
  },
  {
   "cell_type": "code",
   "execution_count": 50,
   "metadata": {},
   "outputs": [
    {
     "name": "stdout",
     "output_type": "stream",
     "text": [
      "[0, 2, 4, 6, 8, 10, 12, 14, 16, 18]\n",
      "[0, 2, 4, 6, 8]\n",
      "45\n"
     ]
    }
   ],
   "source": [
    "a = range(10)\n",
    "from functools import reduce\n",
    "print(list(map(lambda x: x * 2, a)))\n",
    "print(list(filter(lambda x: x % 2 == 0, a)))\n",
    "print(reduce(lambda x, y: x + y, a))"
   ]
  },
  {
   "cell_type": "code",
   "execution_count": 67,
   "metadata": {},
   "outputs": [
    {
     "name": "stdout",
     "output_type": "stream",
     "text": [
      "gnirts\n",
      "gnirts\n",
      "[0, 1, 2]\n"
     ]
    }
   ],
   "source": [
    "s = \"string\"\n",
    "\n",
    "ans = \"\"\n",
    "for c in s:\n",
    "    ans = c + ans\n",
    "\n",
    "print(ans)\n",
    "for i in range(len(s)):\n",
    "    print(s[-i - 1], end=\"\")\n",
    "print()\n",
    "\n",
    "\n",
    "print(range(3))"
   ]
  }
 ],
 "metadata": {
  "kernelspec": {
   "display_name": ".venv",
   "language": "python",
   "name": "python3"
  },
  "language_info": {
   "codemirror_mode": {
    "name": "ipython",
    "version": 3
   },
   "file_extension": ".py",
   "mimetype": "text/x-python",
   "name": "python",
   "nbconvert_exporter": "python",
   "pygments_lexer": "ipython3",
   "version": "3.9.18"
  }
 },
 "nbformat": 4,
 "nbformat_minor": 2
}
