{
 "cells": [
  {
   "cell_type": "code",
   "execution_count": 11,
   "metadata": {},
   "outputs": [
    {
     "name": "stdout",
     "output_type": "stream",
     "text": [
      "global: 1\n",
      "local: 2\n",
      "{'a': 2}\n",
      "not updated in local scope: 1\n",
      "updated in local scope: 2\n",
      "{'__name__': '__main__', '__doc__': 'Automatically created module for IPython interactive environment', '__package__': None, '__loader__': None, '__spec__': None, '__builtin__': <module 'builtins' (built-in)>, '__builtins__': <module 'builtins' (built-in)>, '_ih': ['', 'a = 1\\n\\nfor i in range(10):\\n    print(a)', 'a = 1\\n\\nfor i in range(10):\\n    print(a)\\n\\ndef f(x):\\n    print(a)\\n\\nf(1)', 'a = 1\\n\\nprint(f\"global: {a}\")\\n\\ndef f(x):\\n    print(f\"local: {a}\")\\n\\nf(1)', 'a = 1\\n\\nprint(f\"global: {a}\")\\n\\ndef f(x):\\n    a = 2\\n    print(f\"local: {a}\")\\n\\nf(1)', 'a = 1\\n\\nprint(f\"global: {a}\")\\n\\ndef f(x):\\n    a = 2\\n    print(f\"local: {a}\")\\n\\nf(1)\\n\\nprint(f\"updated in local scope: {a}\")', 'a = 1\\n\\nprint(f\"global: {a}\")\\n\\ndef f(x):\\n    global a\\n    a = 2\\n    print(f\"local: {a}\")\\n\\nf(1)\\n\\nprint(f\"not updated in local scope: {a}\")', 'a = 1\\nb = 1\\n\\nprint(f\"global: {a}\")\\n\\ndef f():\\n    global b\\n    a = 2\\n    b = 2\\n    print(f\"local: {a}\")\\n\\nprint(f\"not updated in local scope: {a}\")\\nprint(f\"updated in local scope: {b}\")', 'a = 1\\nb = 1\\n\\nprint(f\"global: {a}\")\\n\\ndef f():\\n    global b\\n    a = 2\\n    b = 2\\n    print(f\"local: {a}\")\\n\\nf()\\n\\nprint(f\"not updated in local scope: {a}\")\\nprint(f\"updated in local scope: {b}\")', 'a = 1\\nb = 1\\n\\nprint(f\"global: {a}\")\\n\\ndef f():\\n    global b\\n    a = 2\\n    b = 2\\n    print(f\"local: {a}\")\\n    print(locals())\\n\\nf()\\n\\nprint(f\"not updated in local scope: {a}\")\\nprint(f\"updated in local scope: {b}\")', 'a = 1\\nb = 1\\n\\nprint(f\"global: {a}\")\\n\\ndef f():\\n    # global b\\n    a = 2\\n    b = 2\\n    print(f\"local: {a}\")\\n    print(locals())\\n\\nf()\\n\\nprint(f\"not updated in local scope: {a}\")\\nprint(f\"updated in local scope: {b}\")', 'a = 1\\nb = 1\\n\\nprint(f\"global: {a}\")\\n\\ndef f():\\n    global b\\n    a = 2\\n    b = 2\\n    print(f\"local: {a}\")\\n    print(locals())\\n\\nf()\\n\\nprint(f\"not updated in local scope: {a}\")\\nprint(f\"updated in local scope: {b}\")\\nprint(globals())'], '_oh': {}, '_dh': [PosixPath('/app/notebook'), PosixPath('/app/notebook')], 'In': ['', 'a = 1\\n\\nfor i in range(10):\\n    print(a)', 'a = 1\\n\\nfor i in range(10):\\n    print(a)\\n\\ndef f(x):\\n    print(a)\\n\\nf(1)', 'a = 1\\n\\nprint(f\"global: {a}\")\\n\\ndef f(x):\\n    print(f\"local: {a}\")\\n\\nf(1)', 'a = 1\\n\\nprint(f\"global: {a}\")\\n\\ndef f(x):\\n    a = 2\\n    print(f\"local: {a}\")\\n\\nf(1)', 'a = 1\\n\\nprint(f\"global: {a}\")\\n\\ndef f(x):\\n    a = 2\\n    print(f\"local: {a}\")\\n\\nf(1)\\n\\nprint(f\"updated in local scope: {a}\")', 'a = 1\\n\\nprint(f\"global: {a}\")\\n\\ndef f(x):\\n    global a\\n    a = 2\\n    print(f\"local: {a}\")\\n\\nf(1)\\n\\nprint(f\"not updated in local scope: {a}\")', 'a = 1\\nb = 1\\n\\nprint(f\"global: {a}\")\\n\\ndef f():\\n    global b\\n    a = 2\\n    b = 2\\n    print(f\"local: {a}\")\\n\\nprint(f\"not updated in local scope: {a}\")\\nprint(f\"updated in local scope: {b}\")', 'a = 1\\nb = 1\\n\\nprint(f\"global: {a}\")\\n\\ndef f():\\n    global b\\n    a = 2\\n    b = 2\\n    print(f\"local: {a}\")\\n\\nf()\\n\\nprint(f\"not updated in local scope: {a}\")\\nprint(f\"updated in local scope: {b}\")', 'a = 1\\nb = 1\\n\\nprint(f\"global: {a}\")\\n\\ndef f():\\n    global b\\n    a = 2\\n    b = 2\\n    print(f\"local: {a}\")\\n    print(locals())\\n\\nf()\\n\\nprint(f\"not updated in local scope: {a}\")\\nprint(f\"updated in local scope: {b}\")', 'a = 1\\nb = 1\\n\\nprint(f\"global: {a}\")\\n\\ndef f():\\n    # global b\\n    a = 2\\n    b = 2\\n    print(f\"local: {a}\")\\n    print(locals())\\n\\nf()\\n\\nprint(f\"not updated in local scope: {a}\")\\nprint(f\"updated in local scope: {b}\")', 'a = 1\\nb = 1\\n\\nprint(f\"global: {a}\")\\n\\ndef f():\\n    global b\\n    a = 2\\n    b = 2\\n    print(f\"local: {a}\")\\n    print(locals())\\n\\nf()\\n\\nprint(f\"not updated in local scope: {a}\")\\nprint(f\"updated in local scope: {b}\")\\nprint(globals())'], 'Out': {}, 'get_ipython': <bound method InteractiveShell.get_ipython of <ipykernel.zmqshell.ZMQInteractiveShell object at 0xffff8131db50>>, 'exit': <IPython.core.autocall.ZMQExitAutocall object at 0xffff8154f040>, 'quit': <IPython.core.autocall.ZMQExitAutocall object at 0xffff8154f040>, 'open': <function open at 0xffff82d95700>, '_': '', '__': '', '___': '', '__vsc_ipynb_file__': '/app/notebook/global.ipynb', '_i': 'a = 1\\nb = 1\\n\\nprint(f\"global: {a}\")\\n\\ndef f():\\n    # global b\\n    a = 2\\n    b = 2\\n    print(f\"local: {a}\")\\n    print(locals())\\n\\nf()\\n\\nprint(f\"not updated in local scope: {a}\")\\nprint(f\"updated in local scope: {b}\")', '_ii': 'a = 1\\nb = 1\\n\\nprint(f\"global: {a}\")\\n\\ndef f():\\n    global b\\n    a = 2\\n    b = 2\\n    print(f\"local: {a}\")\\n    print(locals())\\n\\nf()\\n\\nprint(f\"not updated in local scope: {a}\")\\nprint(f\"updated in local scope: {b}\")', '_iii': 'a = 1\\nb = 1\\n\\nprint(f\"global: {a}\")\\n\\ndef f():\\n    global b\\n    a = 2\\n    b = 2\\n    print(f\"local: {a}\")\\n\\nf()\\n\\nprint(f\"not updated in local scope: {a}\")\\nprint(f\"updated in local scope: {b}\")', '_i1': 'a = 1\\n\\nfor i in range(10):\\n    print(a)', 'a': 1, 'i': 9, '_i2': 'a = 1\\n\\nfor i in range(10):\\n    print(a)\\n\\ndef f(x):\\n    print(a)\\n\\nf(1)', 'f': <function f at 0xffff8109d280>, '_i3': 'a = 1\\n\\nprint(f\"global: {a}\")\\n\\ndef f(x):\\n    print(f\"local: {a}\")\\n\\nf(1)', '_i4': 'a = 1\\n\\nprint(f\"global: {a}\")\\n\\ndef f(x):\\n    a = 2\\n    print(f\"local: {a}\")\\n\\nf(1)', '_i5': 'a = 1\\n\\nprint(f\"global: {a}\")\\n\\ndef f(x):\\n    a = 2\\n    print(f\"local: {a}\")\\n\\nf(1)\\n\\nprint(f\"updated in local scope: {a}\")', '_i6': 'a = 1\\n\\nprint(f\"global: {a}\")\\n\\ndef f(x):\\n    global a\\n    a = 2\\n    print(f\"local: {a}\")\\n\\nf(1)\\n\\nprint(f\"not updated in local scope: {a}\")', '_i7': 'a = 1\\nb = 1\\n\\nprint(f\"global: {a}\")\\n\\ndef f():\\n    global b\\n    a = 2\\n    b = 2\\n    print(f\"local: {a}\")\\n\\nprint(f\"not updated in local scope: {a}\")\\nprint(f\"updated in local scope: {b}\")', 'b': 2, '_i8': 'a = 1\\nb = 1\\n\\nprint(f\"global: {a}\")\\n\\ndef f():\\n    global b\\n    a = 2\\n    b = 2\\n    print(f\"local: {a}\")\\n\\nf()\\n\\nprint(f\"not updated in local scope: {a}\")\\nprint(f\"updated in local scope: {b}\")', '_i9': 'a = 1\\nb = 1\\n\\nprint(f\"global: {a}\")\\n\\ndef f():\\n    global b\\n    a = 2\\n    b = 2\\n    print(f\"local: {a}\")\\n    print(locals())\\n\\nf()\\n\\nprint(f\"not updated in local scope: {a}\")\\nprint(f\"updated in local scope: {b}\")', '_i10': 'a = 1\\nb = 1\\n\\nprint(f\"global: {a}\")\\n\\ndef f():\\n    # global b\\n    a = 2\\n    b = 2\\n    print(f\"local: {a}\")\\n    print(locals())\\n\\nf()\\n\\nprint(f\"not updated in local scope: {a}\")\\nprint(f\"updated in local scope: {b}\")', '_i11': 'a = 1\\nb = 1\\n\\nprint(f\"global: {a}\")\\n\\ndef f():\\n    global b\\n    a = 2\\n    b = 2\\n    print(f\"local: {a}\")\\n    print(locals())\\n\\nf()\\n\\nprint(f\"not updated in local scope: {a}\")\\nprint(f\"updated in local scope: {b}\")\\nprint(globals())'}\n"
     ]
    }
   ],
   "source": [
    "a = 1\n",
    "b = 1\n",
    "\n",
    "print(f\"global: {a}\")\n",
    "\n",
    "def f():\n",
    "    global b\n",
    "    a = 2\n",
    "    b = 2\n",
    "    print(f\"local: {a}\")\n",
    "    print(locals())\n",
    "\n",
    "f()\n",
    "\n",
    "print(f\"not updated in local scope: {a}\")\n",
    "print(f\"updated in local scope: {b}\")"
   ]
  },
  {
   "cell_type": "code",
   "execution_count": 13,
   "metadata": {},
   "outputs": [
    {
     "name": "stdout",
     "output_type": "stream",
     "text": [
      "3\n"
     ]
    }
   ],
   "source": [
    "a = [[1, 2], [2, 3]]\n",
    "\n",
    "print(a[1][1])"
   ]
  },
  {
   "cell_type": "code",
   "execution_count": 20,
   "metadata": {},
   "outputs": [
    {
     "name": "stdout",
     "output_type": "stream",
     "text": [
      "False\n",
      "False\n"
     ]
    },
    {
     "name": "stderr",
     "output_type": "stream",
     "text": [
      "<>:3: SyntaxWarning: \"is\" with a literal. Did you mean \"==\"?\n",
      "<>:3: SyntaxWarning: \"is\" with a literal. Did you mean \"==\"?\n",
      "/tmp/ipykernel_94262/352041001.py:3: SyntaxWarning: \"is\" with a literal. Did you mean \"==\"?\n",
      "  print(a is 1)\n"
     ]
    }
   ],
   "source": [
    "a = ''\n",
    "print(a == 0)\n",
    "print(a is 1)"
   ]
  }
 ],
 "metadata": {
  "kernelspec": {
   "display_name": ".venv",
   "language": "python",
   "name": "python3"
  },
  "language_info": {
   "codemirror_mode": {
    "name": "ipython",
    "version": 3
   },
   "file_extension": ".py",
   "mimetype": "text/x-python",
   "name": "python",
   "nbconvert_exporter": "python",
   "pygments_lexer": "ipython3",
   "version": "3.9.18"
  }
 },
 "nbformat": 4,
 "nbformat_minor": 2
}
